{
 "cells": [
  {
   "cell_type": "code",
   "execution_count": null,
   "id": "f4fcf105-6fd6-42dd-9a45-e1eb89b2325d",
   "metadata": {},
   "outputs": [],
   "source": [
    "#dependencies and setup\n",
    "import pandas as pd\n",
    "from pathlib import Path"
   ]
  },
  {
   "cell_type": "code",
   "execution_count": null,
   "id": "54e3ca51-7598-4c80-bde0-063fb018dfb5",
   "metadata": {},
   "outputs": [],
   "source": [
    "#file to load\n",
    "school_data_to_load = Path"
   ]
  }
 ],
 "metadata": {
  "kernelspec": {
   "display_name": "Python 3 (ipykernel)",
   "language": "python",
   "name": "python3"
  },
  "language_info": {
   "codemirror_mode": {
    "name": "ipython",
    "version": 3
   },
   "file_extension": ".py",
   "mimetype": "text/x-python",
   "name": "python",
   "nbconvert_exporter": "python",
   "pygments_lexer": "ipython3",
   "version": "3.10.14"
  }
 },
 "nbformat": 4,
 "nbformat_minor": 5
}
